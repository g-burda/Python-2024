{
 "cells": [
  {
   "cell_type": "code",
   "execution_count": 3,
   "id": "a2118ebe",
   "metadata": {},
   "outputs": [
    {
     "name": "stdout",
     "output_type": "stream",
     "text": [
      "Exercise 2.1\n",
      "Number of Zeros in Long Positive Integrer: 3\n"
     ]
    }
   ],
   "source": [
    "# 2.1\n",
    "print (\"Exercise 2.1\")\n",
    "long_int = 98765432109876789540053\n",
    "number_string = str(long_int)\n",
    "number_of_zeros = number_string.count('0')\n",
    "print(\"Number of Zeros in Long Positive Integrer:\", number_of_zeros)"
   ]
  },
  {
   "cell_type": "code",
   "execution_count": 6,
   "id": "4741adb7",
   "metadata": {},
   "outputs": [
    {
     "name": "stdout",
     "output_type": "stream",
     "text": [
      "Exercise 2.2\n",
      "W tym przykladzie wartość x wynosi 5. W drugiej linijce pierwsza wartość jest prawdziwa, 'and' zwraca drugą sprawdzaną wartość,a jej wynik to 11. W kolejne linijce pierwsze wyrażenie jest niepoprawne bo x nie jest równe 4, więc wynikk to False. W czwartejlinijce pierwsze wyrażenie jest prawdziwe i równe 11, drugie równiez jest prawdziwe bo x=5 stąd wynik True. W  piatej linijce pierwsze wyrażenie 3+8 jest prawdziwe, natomiast drugie wurażenie x=4 jest fałśzywe i stąd pojawia się False. isinstance () zwraca True jeśli obiektjest w konkretnym typie w przeciwnym razie zwraca False. Stąd w kolejnej linijce zwraca się wartośc True dlatego, że True jest integrer z wartością 1. W ostaniej linijce True jest wartością boollean stąd zwracana jest wartość True.\n"
     ]
    }
   ],
   "source": [
    "#2.2\n",
    "print (\"Exercise 2.2\")\n",
    "print (\"W tym przykladzie wartość x wynosi 5. W drugiej linijce pierwsza wartość jest prawdziwa, 'and' zwraca drugą sprawdzaną wartość,a jej wynik to 11. W kolejne linijce pierwsze wyrażenie jest niepoprawne bo x nie jest równe 4, więc wynikk to False. W czwartejlinijce pierwsze wyrażenie jest prawdziwe i równe 11, drugie równiez jest prawdziwe bo x=5 stąd wynik True. W  piatej linijce pierwsze wyrażenie 3+8 jest prawdziwe, natomiast drugie wurażenie x=4 jest fałśzywe i stąd pojawia się False. isinstance () zwraca True jeśli obiektjest w konkretnym typie w przeciwnym razie zwraca False. Stąd w kolejnej linijce zwraca się wartośc True dlatego, że True jest integrer z wartością 1. W ostaniej linijce True jest wartością boollean stąd zwracana jest wartość True.\")"
   ]
  },
  {
   "cell_type": "code",
   "execution_count": 7,
   "id": "39090786",
   "metadata": {},
   "outputs": [
    {
     "name": "stdout",
     "output_type": "stream",
     "text": [
      "Exercise 2.3\n",
      "1377818771\n"
     ]
    }
   ],
   "source": [
    "# 2.3\n",
    "print (\"Exercise 2.3\")\n",
    "sum_2021 = sum(x*x for x in range(1, 2022, 2))\n",
    "print(sum_2021)"
   ]
  },
  {
   "cell_type": "code",
   "execution_count": 11,
   "id": "5d95018e",
   "metadata": {},
   "outputs": [
    {
     "name": "stdout",
     "output_type": "stream",
     "text": [
      "Exercise 2.4\n",
      "[71, 97, 98, 114, 105, 101, 108, 97]\n",
      "+---+--------------------+------+----------+\n",
      "|No.|Name (en)           |Symbol|Weight (u)|\n",
      "+---+--------------------+------+----------+\n",
      "|  1|Hydrogen            |  H   |         1|\n",
      "|  2|Helium              |  He  |         4|\n",
      "|  3|Lithium             |  Li  |         7|\n",
      "|  4|Beryllium           |  Be  |         9|\n",
      "|  5|Boron               |  B   |        11|\n",
      "|  6|Carbon              |  C   |        12|\n",
      "|  7|Nitrogen            |  N   |        14|\n",
      "|  8|Oxygen              |  O   |        16|\n",
      "|  9|Fluorine            |  F   |        19|\n",
      "| 10|Neon                |  Ne  |        20|\n",
      "+---+--------------------+------+----------+\n"
     ]
    }
   ],
   "source": [
    "#2.4\n",
    "print (\"Exercise 2.4\")\n",
    "name = \"Gabriela\"\n",
    "unicode = [ord(char) for char in name]\n",
    "print(unicode)\n",
    "\n",
    "\n",
    "periodic_table = [\n",
    "    (1, \"Hydrogen\", \"H\", 1),\n",
    "    (2, \"Helium\", \"He\", 4),\n",
    "    (3, \"Lithium\", \"Li\", 7),\n",
    "    (4, \"Beryllium\", \"Be\", 9),\n",
    "    (5, \"Boron\", \"B\", 11),\n",
    "    (6, \"Carbon\", \"C\", 12),\n",
    "    (7, \"Nitrogen\", \"N\", 14),\n",
    "    (8, \"Oxygen\", \"O\", 16),\n",
    "    (9, \"Fluorine\", \"F\", 19),\n",
    "    (10, \"Neon\", \"Ne\", 20),\n",
    "]\n",
    "print(\"+---+--------------------+------+----------+\")\n",
    "print(\"|No.|Name (en)           |Symbol|Weight (u)|\")\n",
    "print(\"+---+--------------------+------+----------+\")\n",
    "\n",
    "for (n, name, symbol, weight) in periodic_table:\n",
    "    print(f\"|{n:3d}|{name:20s}|{symbol:^6s}|{weight:10d}|\")\n",
    "\n",
    "print(\"+---+--------------------+------+----------+\")"
   ]
  },
  {
   "cell_type": "code",
   "execution_count": 12,
   "id": "1b126658",
   "metadata": {},
   "outputs": [
    {
     "name": "stdout",
     "output_type": "stream",
     "text": [
      "Exercise 2.5\n",
      "Number of non-whitespace characters: 101\n",
      "Number of words: 17\n",
      "Longest word: zawierajace\n",
      "Words sorted in lexicographic order: ['Moja', 'Strasznie', 'dlugie', 'dwa', 'jajka', 'kolorze', 'kura', 'na', 'nie', 'niebieskim.', 'obiad', 'polskich', 'w', 'wyrazenie,', 'zawierajace', 'znakow.', 'znosi']\n",
      "Words sorted by length: ['w', 'na', 'nie', 'dwa', 'Moja', 'kura', 'znosi', 'obiad', 'jajka', 'dlugie', 'znakow.', 'kolorze', 'polskich', 'Strasznie', 'wyrazenie,', 'zawierajace', 'niebieskim.']\n"
     ]
    }
   ],
   "source": [
    "print (\"Exercise 2.5\")\n",
    "S = \"\"\"Strasznie dlugie wyrazenie, nie zawierajace polskich znakow. Moja kura znosi na obiad dwa jajka w kolorze niebieskim.\"\"\"\n",
    "num_non_whitespace_characters = sum(1 for char in S if not char.isspace())\n",
    "words = S.split()\n",
    "number_words = len(words)\n",
    "longest_word = max(words, key=len)\n",
    "sorted_lexicographic = sorted(words)\n",
    "sorted_length = sorted(words, key=len)\n",
    "print(\"Non-whitespace characters:\", num_non_whitespace_characters)\n",
    "print(\"Number of words:\", number_words)\n",
    "print(\"Longest word:\", longest_word)\n",
    "print(\"Words sorted in lexicographic order:\", sorted_lexicographic)\n",
    "print(\"Words sorted by length:\", sorted_length)"
   ]
  },
  {
   "cell_type": "code",
   "execution_count": 16,
   "id": "11ad4997",
   "metadata": {},
   "outputs": [
    {
     "name": "stdout",
     "output_type": "stream",
     "text": [
      "Exercise 2.6\n",
      "2 4\n",
      "To wyrażenie tworzy tuple z dwoma elementami. W tuple indexowanie aczyna się od zera więc w naszej tuple mamy tylko dwa elementy z ideksem 0 i 1. Po uruchomieniu kodu pojawia się komunikat IndexError: tuple index out of range. Jesli to poprawimy np. na 1, to wtedy pojawi się kolejny bła związany z wyrażeniem append AttributeError: 'tuple' object has no attribute 'append', nie można zmieniać elemntów tuple. W ostatnim elemencie przyporządkuje się a i b do odpowiednich częsci tuple, ta linia jest poprawna i zwróci wartości 2 i 4.\n"
     ]
    }
   ],
   "source": [
    "print (\"Exercise 2.6\")\n",
    "t = (2, 4)\n",
    "#print(t[2])\n",
    "#t.append(6)\n",
    "a, b = t ; print(a, b)\n",
    "print (\"To wyrażenie tworzy tuple z dwoma elementami. W tuple indexowanie aczyna się od zera więc w naszej tuple mamy tylko dwa elementy z ideksem 0 i 1. Po uruchomieniu kodu pojawia się komunikat IndexError: tuple index out of range. Jesli to poprawimy np. na 1, to wtedy pojawi się kolejny bła związany z wyrażeniem append AttributeError: 'tuple' object has no attribute 'append', nie można zmieniać elemntów tuple. W ostatnim elemencie przyporządkuje się a i b do odpowiednich częsci tuple, ta linia jest poprawna i zwróci wartości 2 i 4.\")"
   ]
  },
  {
   "cell_type": "code",
   "execution_count": 20,
   "id": "ceaba113",
   "metadata": {},
   "outputs": [
    {
     "name": "stdout",
     "output_type": "stream",
     "text": [
      "Exercise 2.7\n",
      "M is 1000\n"
     ]
    }
   ],
   "source": [
    "print (\"Exercise 2.7\")\n",
    "dictionary_roman_to_arabic = {\n",
    "    'I': 1,\n",
    "    'IV': 4,\n",
    "    'V': 5,\n",
    "    'IX': 9,\n",
    "    'X': 10,\n",
    "    'XL': 40,\n",
    "    'L': 50,\n",
    "    'XC': 90,\n",
    "    'C': 100,\n",
    "    'CD': 400,\n",
    "    'D': 500,\n",
    "    'CM': 900,\n",
    "    'M': 1000\n",
    "}\n",
    "roman_numeral = 'M'\n",
    "arabic_number = dictionary_roman_to_arabic[roman_numeral]\n",
    "print(f\"{roman_numeral} is {arabic_number}\")"
   ]
  },
  {
   "cell_type": "code",
   "execution_count": 23,
   "id": "cd6fb96b",
   "metadata": {},
   "outputs": [
    {
     "name": "stdout",
     "output_type": "stream",
     "text": [
      "Exercise 2.7\n",
      "M is 1000\n"
     ]
    }
   ],
   "source": [
    "print (\"Exercise 2.7\")\n",
    "def roman_to_arabic_function(roman):\n",
    "    roman_numerals = {'I': 1, 'IV': 4, 'V': 5, 'IX': 9, 'X': 10, 'XL': 40, 'L': 50, 'XC': 90, 'C': 100, 'CD': 400, 'D': 500, 'CM': 900, 'M': 1000}\n",
    "    result = 0\n",
    "    prev_value = 0\n",
    "\n",
    "    for numeral in reversed(roman):\n",
    "        value = roman_numerals[numeral]\n",
    "        result += value if value >= prev_value else -value\n",
    "        prev_value = value\n",
    "\n",
    "    return result\n",
    "roman_numeral = 'M'\n",
    "arabic_number = roman_to_arabic_function(roman_numeral)\n",
    "print(f\"{roman_numeral} is {arabic_number}\")"
   ]
  },
  {
   "cell_type": "code",
   "execution_count": null,
   "id": "03aaea10",
   "metadata": {},
   "outputs": [],
   "source": []
  }
 ],
 "metadata": {
  "kernelspec": {
   "display_name": "Python 3 (ipykernel)",
   "language": "python",
   "name": "python3"
  },
  "language_info": {
   "codemirror_mode": {
    "name": "ipython",
    "version": 3
   },
   "file_extension": ".py",
   "mimetype": "text/x-python",
   "name": "python",
   "nbconvert_exporter": "python",
   "pygments_lexer": "ipython3",
   "version": "3.9.7"
  }
 },
 "nbformat": 4,
 "nbformat_minor": 5
}
